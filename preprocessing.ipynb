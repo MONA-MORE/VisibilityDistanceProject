{
 "cells": [
  {
   "cell_type": "code",
   "execution_count": 1,
   "id": "e425198f",
   "metadata": {},
   "outputs": [],
   "source": [
    "import pandas as pd\n",
    "import numpy as np\n",
    "from sklearn.impute import KNNImputer\n",
    "from sklearn.preprocessing import StandardScaler\n",
    "\n",
    "class preprocessor:\n",
    "    \n",
    "    \n",
    "    def remove_columns(data,columns):\n",
    "        # taking dataframe and name of columns to be removed\n",
    "        \n",
    "        useful_data=data.drop(labels=columns,axis=1)\n",
    "        \n",
    "        return useful_data\n",
    "    \n",
    "    def separate_label_feature(data,label_column_name):\n",
    "        #taking dataframe and label col name or output col name\n",
    "        X = data.drop(labels=label_column_name,axis=1)\n",
    "        Y = data[label_column_name] #take the output col in Y\n",
    "        \n",
    "        return X,Y\n",
    "    \n",
    "    def dropUnnecessaryCol(data,columnList):\n",
    "        data = data.drop(columnList,axis=1)\n",
    "        return data\n",
    "    \n",
    "    def standardScaling(X):\n",
    "        scaler = StandardScaler()\n",
    "        X_scaled = scaler.fit_transform(X)\n",
    "        \n",
    "        return X_scaled"
   ]
  },
  {
   "cell_type": "code",
   "execution_count": null,
   "id": "f9a12de3",
   "metadata": {},
   "outputs": [],
   "source": []
  }
 ],
 "metadata": {
  "kernelspec": {
   "display_name": "Python 3 (ipykernel)",
   "language": "python",
   "name": "python3"
  },
  "language_info": {
   "codemirror_mode": {
    "name": "ipython",
    "version": 3
   },
   "file_extension": ".py",
   "mimetype": "text/x-python",
   "name": "python",
   "nbconvert_exporter": "python",
   "pygments_lexer": "ipython3",
   "version": "3.9.12"
  }
 },
 "nbformat": 4,
 "nbformat_minor": 5
}
