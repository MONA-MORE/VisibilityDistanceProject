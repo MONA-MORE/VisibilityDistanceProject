{
 "cells": [
  {
   "cell_type": "code",
   "execution_count": 2,
   "id": "61e3aa14",
   "metadata": {},
   "outputs": [],
   "source": [
    "from sklearn.cluster import KMeans\n",
    "from kneed import KneeLocator\n",
    "import matplotlib.pyplot as plt\n",
    "import pickle \n",
    "import os\n",
    "import shutil\n",
    "\n",
    "class modelOperation:\n",
    "    \n",
    "    def __init__(self):\n",
    "        model_dir='model/'\n",
    "        \n",
    "    def save_model(model,filename):\n",
    "        path = os.path.join(model_dir,filename)  #create seperate directory for each cluster\n",
    "        if os.path.isdir(path):   #remove previously existing models for each clusters\n",
    "            shutil.rmtree(model_dir)\n",
    "            os.makedirs(path)\n",
    "        else:\n",
    "            os.makedirs(path) \n",
    "            with open(path +'/' + filename+'.sav','wb') as f:\n",
    "                \n",
    "                pickle.dump(model, f)\n",
    "        return 'success'\n",
    "    \n",
    "    def load_model(filename):\n",
    "        with open(model_dir + filename + '/' + filename + '.sav','rb') as f:\n",
    "            return pickle.load(f)\n",
    "\n",
    "\n",
    "class KMeansClustering:\n",
    "    \n",
    "    def elbow_plot(data):\n",
    "        ss=[]\n",
    "        \n",
    "        for i in range(1,11):\n",
    "            kmeans=KMeans(n_clusters=i,init='k-means++',random_state=7)\n",
    "            kmeans.fit(data)\n",
    "            ss.append(kmeans.inertia_)\n",
    "            \n",
    "        plt.plot(range(1,11),ss) # creating the graph between SS and the number of clusters\n",
    "        plt.title('The Elbow Method')\n",
    "        plt.xlabel('Number of clusters')\n",
    "        plt.ylabel('SS')\n",
    "        \n",
    "        plt.savefig('K-Means_Elbow.PNG')\n",
    "        \n",
    "        kn = KneeLocator(range(1, 11), ss, curve='convex', direction='decreasing') #Xaxis,Yaxis,curveshape,direction\n",
    "        \n",
    "        return kn.knee\n",
    "    \n",
    "    \n",
    "    def create_cluster(data,number_of_clusters):\n",
    "        kmeans = KMeans(n_clusters=number_of_clusters, init='k-means++', random_state=7)\n",
    "        \n",
    "        y_kmeans = kmeans.fit_predict(data)  #divide data into clusters\n",
    "        save_model = modelOperation.save_model(kmeans, 'KMeans')\n",
    "        \n",
    "        data['Cluster']=y_kmeans  # create a new column in dataset for storing the cluster information\n",
    "        return data"
   ]
  },
  {
   "cell_type": "code",
   "execution_count": null,
   "id": "aeee4598",
   "metadata": {},
   "outputs": [],
   "source": []
  },
  {
   "cell_type": "code",
   "execution_count": null,
   "id": "089c8d91",
   "metadata": {},
   "outputs": [],
   "source": []
  }
 ],
 "metadata": {
  "kernelspec": {
   "display_name": "Python 3 (ipykernel)",
   "language": "python",
   "name": "python3"
  },
  "language_info": {
   "codemirror_mode": {
    "name": "ipython",
    "version": 3
   },
   "file_extension": ".py",
   "mimetype": "text/x-python",
   "name": "python",
   "nbconvert_exporter": "python",
   "pygments_lexer": "ipython3",
   "version": "3.9.12"
  }
 },
 "nbformat": 4,
 "nbformat_minor": 5
}
