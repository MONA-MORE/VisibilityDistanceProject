{
 "cells": [
  {
   "cell_type": "code",
   "execution_count": 1,
   "id": "32a38327",
   "metadata": {},
   "outputs": [],
   "source": [
    "import pandas as pd\n",
    "from preprocessing import preprocessor"
   ]
  },
  {
   "cell_type": "code",
   "execution_count": 2,
   "id": "ffad2c61",
   "metadata": {},
   "outputs": [],
   "source": [
    "df = pd.read_csv(\"D:/cdac/CDAC_PROJECT/Untitled Folder/Training_Batch_Files/visibility_08012008_120010.csv\")"
   ]
  },
  {
   "cell_type": "code",
   "execution_count": 3,
   "id": "6157b5ab",
   "metadata": {},
   "outputs": [
    {
     "name": "stdout",
     "output_type": "stream",
     "text": [
      "<class 'pandas.core.frame.DataFrame'>\n",
      "RangeIndex: 6257 entries, 0 to 6256\n",
      "Data columns (total 11 columns):\n",
      " #   Column            Non-Null Count  Dtype  \n",
      "---  ------            --------------  -----  \n",
      " 0   DATE              6257 non-null   object \n",
      " 1   VISIBILITY        6257 non-null   float64\n",
      " 2   DRYBULBTEMPF      6257 non-null   int64  \n",
      " 3   WETBULBTEMPF      6257 non-null   int64  \n",
      " 4   DewPointTempF     6257 non-null   int64  \n",
      " 5   RelativeHumidity  6257 non-null   int64  \n",
      " 6   WindSpeed         6257 non-null   int64  \n",
      " 7   WindDirection     6257 non-null   int64  \n",
      " 8   StationPressure   6257 non-null   float64\n",
      " 9   SeaLevelPressure  6257 non-null   float64\n",
      " 10  Precip            6257 non-null   float64\n",
      "dtypes: float64(4), int64(6), object(1)\n",
      "memory usage: 537.8+ KB\n"
     ]
    }
   ],
   "source": [
    "df.info()"
   ]
  },
  {
   "cell_type": "code",
   "execution_count": 4,
   "id": "ce5ece59",
   "metadata": {},
   "outputs": [
    {
     "data": {
      "text/plain": [
       "(6257, 11)"
      ]
     },
     "execution_count": 4,
     "metadata": {},
     "output_type": "execute_result"
    }
   ],
   "source": [
    "df.shape"
   ]
  },
  {
   "cell_type": "code",
   "execution_count": 5,
   "id": "1abf1a7e",
   "metadata": {},
   "outputs": [
    {
     "data": {
      "text/plain": [
       "DATE                0\n",
       "VISIBILITY          0\n",
       "DRYBULBTEMPF        0\n",
       "WETBULBTEMPF        0\n",
       "DewPointTempF       0\n",
       "RelativeHumidity    0\n",
       "WindSpeed           0\n",
       "WindDirection       0\n",
       "StationPressure     0\n",
       "SeaLevelPressure    0\n",
       "Precip              0\n",
       "dtype: int64"
      ]
     },
     "execution_count": 5,
     "metadata": {},
     "output_type": "execute_result"
    }
   ],
   "source": [
    "df.isnull().sum()"
   ]
  },
  {
   "cell_type": "code",
   "execution_count": 6,
   "id": "c089aaf7",
   "metadata": {},
   "outputs": [
    {
     "data": {
      "text/plain": [
       "(6257, 10)"
      ]
     },
     "execution_count": 6,
     "metadata": {},
     "output_type": "execute_result"
    }
   ],
   "source": [
    "df = df.drop(['DATE'],axis=1)\n",
    "df.shape"
   ]
  },
  {
   "cell_type": "code",
   "execution_count": 7,
   "id": "e0a0d178",
   "metadata": {},
   "outputs": [
    {
     "data": {
      "text/plain": [
       "(6257, 6)"
      ]
     },
     "execution_count": 7,
     "metadata": {},
     "output_type": "execute_result"
    }
   ],
   "source": [
    "new_df = df.drop(['Precip','WETBULBTEMPF','DewPointTempF','StationPressure'],axis=1)\n",
    "new_df.shape"
   ]
  },
  {
   "cell_type": "markdown",
   "id": "159b5e08",
   "metadata": {},
   "source": [
    "## split X and Y"
   ]
  },
  {
   "cell_type": "code",
   "execution_count": 8,
   "id": "2f417fdc",
   "metadata": {},
   "outputs": [],
   "source": [
    "X = new_df.drop(['VISIBILITY'],axis=1)\n",
    "Y = new_df['VISIBILITY']"
   ]
  },
  {
   "cell_type": "code",
   "execution_count": 9,
   "id": "a6df2a35",
   "metadata": {},
   "outputs": [
    {
     "data": {
      "text/plain": [
       "((6257, 5), (6257,))"
      ]
     },
     "execution_count": 9,
     "metadata": {},
     "output_type": "execute_result"
    }
   ],
   "source": [
    "X.shape,Y.shape"
   ]
  },
  {
   "cell_type": "code",
   "execution_count": 10,
   "id": "a18b492d",
   "metadata": {},
   "outputs": [
    {
     "data": {
      "text/plain": [
       "Index(['DRYBULBTEMPF', 'RelativeHumidity', 'WindSpeed', 'WindDirection',\n",
       "       'SeaLevelPressure'],\n",
       "      dtype='object')"
      ]
     },
     "execution_count": 10,
     "metadata": {},
     "output_type": "execute_result"
    }
   ],
   "source": [
    "X.columns"
   ]
  },
  {
   "cell_type": "code",
   "execution_count": 11,
   "id": "fda5a64a",
   "metadata": {},
   "outputs": [
    {
     "data": {
      "text/plain": [
       "0    6.00\n",
       "1    6.00\n",
       "2    5.00\n",
       "3    5.00\n",
       "4    5.00\n",
       "5    5.00\n",
       "6    4.00\n",
       "7    1.25\n",
       "8    2.50\n",
       "9    2.50\n",
       "Name: VISIBILITY, dtype: float64"
      ]
     },
     "execution_count": 11,
     "metadata": {},
     "output_type": "execute_result"
    }
   ],
   "source": [
    "Y.head(10)"
   ]
  },
  {
   "cell_type": "markdown",
   "id": "306c892f",
   "metadata": {},
   "source": [
    "## TRAIN TEST SPLIT"
   ]
  },
  {
   "cell_type": "code",
   "execution_count": 12,
   "id": "f2c18b06",
   "metadata": {},
   "outputs": [
    {
     "data": {
      "text/plain": [
       "((4379, 5), (1878, 5), (4379,), (1878,))"
      ]
     },
     "execution_count": 12,
     "metadata": {},
     "output_type": "execute_result"
    }
   ],
   "source": [
    "from sklearn.model_selection import train_test_split\n",
    "X_train,X_test,Y_train,Y_test = train_test_split(X,Y, test_size=0.3, random_state=7)\n",
    "X_train.shape,X_test.shape,Y_train.shape,Y_test.shape"
   ]
  },
  {
   "cell_type": "markdown",
   "id": "6863a8ac",
   "metadata": {},
   "source": [
    "## RANDOM FOREST"
   ]
  },
  {
   "cell_type": "code",
   "execution_count": 19,
   "id": "cb3e6d87",
   "metadata": {},
   "outputs": [],
   "source": [
    "from sklearn.ensemble import RandomForestRegressor\n",
    "from sklearn.model_selection import GridSearchCV\n",
    "rf= RandomForestRegressor()"
   ]
  },
  {
   "cell_type": "code",
   "execution_count": 26,
   "id": "fdfb01ad",
   "metadata": {},
   "outputs": [],
   "source": [
    "param_grid = {\"n_estimators\": [50, 100, 130],\n",
    "              \"criterion\": ['squared_error', 'absolute_error', 'poisson'],\n",
    "              \"max_depth\": range(2, 4, 1), \n",
    "              \"max_features\": ['sqrt', 'log2']\n",
    "             }"
   ]
  },
  {
   "cell_type": "code",
   "execution_count": 27,
   "id": "8f5ba941",
   "metadata": {},
   "outputs": [],
   "source": [
    "gscv =GridSearchCV(estimator = rf, param_grid = param_grid, cv=5)"
   ]
  },
  {
   "cell_type": "code",
   "execution_count": 28,
   "id": "0d4ad6c4",
   "metadata": {},
   "outputs": [
    {
     "data": {
      "text/plain": [
       "GridSearchCV(cv=5, estimator=RandomForestRegressor(),\n",
       "             param_grid={'criterion': ['squared_error', 'absolute_error',\n",
       "                                       'poisson'],\n",
       "                         'max_depth': range(2, 4),\n",
       "                         'max_features': ['sqrt', 'log2'],\n",
       "                         'n_estimators': [50, 100, 130]})"
      ]
     },
     "execution_count": 28,
     "metadata": {},
     "output_type": "execute_result"
    }
   ],
   "source": [
    "gscv.fit(X_train,Y_train)"
   ]
  },
  {
   "cell_type": "code",
   "execution_count": 29,
   "id": "03aef0c0",
   "metadata": {},
   "outputs": [
    {
     "data": {
      "text/plain": [
       "{'criterion': 'squared_error',\n",
       " 'max_depth': 3,\n",
       " 'max_features': 'log2',\n",
       " 'n_estimators': 50}"
      ]
     },
     "execution_count": 29,
     "metadata": {},
     "output_type": "execute_result"
    }
   ],
   "source": [
    "gscv.best_params_"
   ]
  },
  {
   "cell_type": "code",
   "execution_count": 30,
   "id": "03545107",
   "metadata": {},
   "outputs": [
    {
     "data": {
      "text/plain": [
       "RandomForestRegressor(max_depth=3, max_features='log2', n_estimators=50,\n",
       "                      random_state=7)"
      ]
     },
     "execution_count": 30,
     "metadata": {},
     "output_type": "execute_result"
    }
   ],
   "source": [
    "rf = RandomForestRegressor(n_estimators=50,max_depth=3, max_features='log2',criterion='squared_error',random_state=7)\n",
    "rf.fit(X_train,Y_train)"
   ]
  },
  {
   "cell_type": "code",
   "execution_count": 31,
   "id": "4edf5028",
   "metadata": {},
   "outputs": [],
   "source": [
    "Y_pred_rf = rf.predict(X_test)"
   ]
  },
  {
   "cell_type": "markdown",
   "id": "0a5db2b1",
   "metadata": {},
   "source": [
    "## Apply XGBoost"
   ]
  },
  {
   "cell_type": "code",
   "execution_count": 32,
   "id": "8069ecfd",
   "metadata": {},
   "outputs": [],
   "source": [
    "from sklearn.ensemble import GradientBoostingRegressor"
   ]
  },
  {
   "cell_type": "code",
   "execution_count": 33,
   "id": "487aa54e",
   "metadata": {},
   "outputs": [],
   "source": [
    "param_grid = {\n",
    "'n_estimators' : [ 50, 200],\n",
    "'subsample' : [0.7, 0.8],\n",
    "'max_depth' :[ 5,7],\n",
    "'learning_rate': [0.5, 0.01]\n",
    "}"
   ]
  },
  {
   "cell_type": "code",
   "execution_count": 34,
   "id": "61e4cf3b",
   "metadata": {},
   "outputs": [],
   "source": [
    "gscv =GridSearchCV(estimator = GradientBoostingRegressor(), param_grid = param_grid, cv=5)"
   ]
  },
  {
   "cell_type": "code",
   "execution_count": 35,
   "id": "743904aa",
   "metadata": {},
   "outputs": [
    {
     "data": {
      "text/plain": [
       "GridSearchCV(cv=5, estimator=GradientBoostingRegressor(),\n",
       "             param_grid={'learning_rate': [0.5, 0.01], 'max_depth': [5, 7],\n",
       "                         'n_estimators': [50, 200], 'subsample': [0.7, 0.8]})"
      ]
     },
     "execution_count": 35,
     "metadata": {},
     "output_type": "execute_result"
    }
   ],
   "source": [
    "gscv.fit(X_train,Y_train)"
   ]
  },
  {
   "cell_type": "code",
   "execution_count": 36,
   "id": "09bd4dab",
   "metadata": {},
   "outputs": [
    {
     "data": {
      "text/plain": [
       "{'learning_rate': 0.01, 'max_depth': 7, 'n_estimators': 200, 'subsample': 0.7}"
      ]
     },
     "execution_count": 36,
     "metadata": {},
     "output_type": "execute_result"
    }
   ],
   "source": [
    "gscv.best_params_"
   ]
  },
  {
   "cell_type": "code",
   "execution_count": 37,
   "id": "edfdd1fe",
   "metadata": {},
   "outputs": [
    {
     "data": {
      "text/plain": [
       "GradientBoostingRegressor(learning_rate=0.01, max_depth=7, n_estimators=200,\n",
       "                          random_state=7, subsample=0.7)"
      ]
     },
     "execution_count": 37,
     "metadata": {},
     "output_type": "execute_result"
    }
   ],
   "source": [
    "gbr = GradientBoostingRegressor(max_depth= 7, n_estimators= 200, subsample= 0.7,learning_rate=0.01, random_state=7)\n",
    "gbr.fit(X_train,Y_train)"
   ]
  },
  {
   "cell_type": "code",
   "execution_count": 38,
   "id": "f318170a",
   "metadata": {},
   "outputs": [],
   "source": [
    "Y_pred_gbr = gbr.predict(X_test)"
   ]
  },
  {
   "cell_type": "code",
   "execution_count": 48,
   "id": "f8eb468c",
   "metadata": {},
   "outputs": [],
   "source": [
    "import math"
   ]
  },
  {
   "cell_type": "code",
   "execution_count": 49,
   "id": "e64a554f",
   "metadata": {},
   "outputs": [],
   "source": [
    "def eval_fun(Y_test,Y_pred):\n",
    "    from sklearn.metrics import r2_score,mean_squared_error,mean_absolute_error\n",
    "    r2 = r2_score(Y_test,Y_pred)\n",
    "    mse = mean_squared_error(Y_test,Y_pred)\n",
    "    rmse = math.sqrt(mean_squared_error(Y_test,Y_pred))\n",
    "    mae = mean_absolute_error(Y_test,Y_pred)\n",
    "    return r2, mse,rmse, mae"
   ]
  },
  {
   "cell_type": "code",
   "execution_count": 50,
   "id": "7edc4d4f",
   "metadata": {},
   "outputs": [
    {
     "name": "stdout",
     "output_type": "stream",
     "text": [
      "R Squared Value=  0.6054518121391503\n",
      "Mean Squared Error =  1.7913567792806215\n",
      "Root Mean Squared Error = 1.3384157722025773\n",
      "Mean Absolute Error = 0.7467161473408308\n"
     ]
    }
   ],
   "source": [
    "r2, mse, rmse, mae = eval_fun(Y_test,Y_pred_rf) \n",
    "print(\"R Squared Value= \", r2)\n",
    "print(\"Mean Squared Error = \", mse)\n",
    "print(\"Root Mean Squared Error =\", rmse)\n",
    "print(\"Mean Absolute Error =\", mae)"
   ]
  },
  {
   "cell_type": "code",
   "execution_count": 51,
   "id": "2eb87ec0",
   "metadata": {},
   "outputs": [
    {
     "name": "stdout",
     "output_type": "stream",
     "text": [
      "R Squared Value=  0.7398207178218774\n",
      "Mean Squared Error =  1.181285164392953\n",
      "Root Mean Squared Error = 1.0868694330014774\n",
      "Mean Absolute Error = 0.5640859368404765\n"
     ]
    }
   ],
   "source": [
    "r2, mse, rmse, mae = eval_fun(Y_test,Y_pred_gbr) \n",
    "print(\"R Squared Value= \", r2)\n",
    "print(\"Mean Squared Error = \", mse)\n",
    "print(\"Root Mean Squared Error =\", rmse)\n",
    "print(\"Mean Absolute Error =\", mae)"
   ]
  },
  {
   "cell_type": "markdown",
   "id": "0a4db474",
   "metadata": {},
   "source": [
    "## Results"
   ]
  },
  {
   "cell_type": "code",
   "execution_count": 44,
   "id": "be7e801b",
   "metadata": {},
   "outputs": [
    {
     "data": {
      "text/plain": [
       "(1878, 3)"
      ]
     },
     "execution_count": 44,
     "metadata": {},
     "output_type": "execute_result"
    }
   ],
   "source": [
    "res = pd.DataFrame([Y_test.values, Y_pred_rf, Y_pred_gbr]).T\n",
    "res.columns = ['Y_test', 'Y_pred_rf', 'Y_pred_gbr']\n",
    "res.shape"
   ]
  },
  {
   "cell_type": "code",
   "execution_count": 45,
   "id": "f83fb83b",
   "metadata": {},
   "outputs": [
    {
     "data": {
      "text/plain": [
       "<AxesSubplot:>"
      ]
     },
     "execution_count": 45,
     "metadata": {},
     "output_type": "execute_result"
    },
    {
     "data": {
      "image/png": "[encoded data removed]",
      "text/plain": [
       "<Figure size 432x288 with 1 Axes>"
      ]
     },
     "metadata": {
      "needs_background": "light"
     },
     "output_type": "display_data"
    }
   ],
   "source": [
    "res.plot()"
   ]
  },
  {
   "cell_type": "code",
   "execution_count": 46,
   "id": "2a03ca7f",
   "metadata": {},
   "outputs": [
    {
     "data": {
      "text/plain": [
       "<AxesSubplot:>"
      ]
     },
     "execution_count": 46,
     "metadata": {},
     "output_type": "execute_result"
    },
    {
     "data": {
      "image/png": "[encoded data removed]",
      "text/plain": [
       "<Figure size 432x288 with 1 Axes>"
      ]
     },
     "metadata": {
      "needs_background": "light"
     },
     "output_type": "display_data"
    }
   ],
   "source": [
    "res[['Y_test', 'Y_pred_rf']].plot()"
   ]
  },
  {
   "cell_type": "code",
   "execution_count": 47,
   "id": "4b21875d",
   "metadata": {},
   "outputs": [
    {
     "data": {
      "text/plain": [
       "<AxesSubplot:>"
      ]
     },
     "execution_count": 47,
     "metadata": {},
     "output_type": "execute_result"
    },
    {
     "data": {
      "image/png": "[encoded data removed]",
      "text/plain": [
       "<Figure size 432x288 with 1 Axes>"
      ]
     },
     "metadata": {
      "needs_background": "light"
     },
     "output_type": "display_data"
    }
   ],
   "source": [
    "res[['Y_test', 'Y_pred_gbr']].plot()"
   ]
  },
  {
   "cell_type": "code",
   "execution_count": null,
   "id": "bd92e2e5",
   "metadata": {},
   "outputs": [],
   "source": []
  }
 ],
 "metadata": {
  "kernelspec": {
   "display_name": "Python 3 (ipykernel)",
   "language": "python",
   "name": "python3"
  },
  "language_info": {
   "codemirror_mode": {
    "name": "ipython",
    "version": 3
   },
   "file_extension": ".py",
   "mimetype": "text/x-python",
   "name": "python",
   "nbconvert_exporter": "python",
   "pygments_lexer": "ipython3",
   "version": "3.9.12"
  }
 },
 "nbformat": 4,
 "nbformat_minor": 5
}
