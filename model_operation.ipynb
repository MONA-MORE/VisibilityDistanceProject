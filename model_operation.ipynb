{
 "cells": [
  {
   "cell_type": "code",
   "execution_count": 1,
   "id": "5f5357e6",
   "metadata": {},
   "outputs": [],
   "source": [
    "import pickle \n",
    "import os\n",
    "import shutil\n",
    "\n",
    "class modelOperation:\n",
    "    \n",
    "    \n",
    "        \n",
    "    def save_model(model,filename):\n",
    "        path = os.path.join(\"/model\",filename)  #create seperate directory for each cluster\n",
    "        if os.path.isdir(path):   #remove previously existing models for each clusters\n",
    "            shutil.rmtree(model_directory)\n",
    "            os.makedirs(path)\n",
    "        else:\n",
    "            os.makedirs(path) \n",
    "            with open(path +'/' + filename+'.sav','wb') as f:\n",
    "                \n",
    "                pickle.dump(model, f)\n",
    "        return 'success'\n",
    "    \n",
    "    def load_model(filename):\n",
    "        model_directory = \"/model\"\n",
    "        with open(model_directory + filename + '/' + filename + '.sav','rb') as f:\n",
    "            return pickle.load(f)"
   ]
  },
  {
   "cell_type": "code",
   "execution_count": null,
   "id": "4aafff89",
   "metadata": {},
   "outputs": [],
   "source": []
  }
 ],
 "metadata": {
  "kernelspec": {
   "display_name": "Python 3 (ipykernel)",
   "language": "python",
   "name": "python3"
  },
  "language_info": {
   "codemirror_mode": {
    "name": "ipython",
    "version": 3
   },
   "file_extension": ".py",
   "mimetype": "text/x-python",
   "name": "python",
   "nbconvert_exporter": "python",
   "pygments_lexer": "ipython3",
   "version": "3.9.12"
  }
 },
 "nbformat": 4,
 "nbformat_minor": 5
}
